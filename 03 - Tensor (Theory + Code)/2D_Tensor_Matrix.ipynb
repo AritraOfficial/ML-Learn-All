{
 "cells": [
  {
   "cell_type": "markdown",
   "id": "277e9761",
   "metadata": {},
   "source": [
    "# 2D - Tensor - Matrix"
   ]
  },
  {
   "cell_type": "code",
   "execution_count": 1,
   "id": "30aea8e2",
   "metadata": {},
   "outputs": [],
   "source": [
    "import numpy as np"
   ]
  },
  {
   "cell_type": "code",
   "execution_count": 7,
   "id": "d842e220",
   "metadata": {},
   "outputs": [
    {
     "name": "stdout",
     "output_type": "stream",
     "text": [
      "[[      10      120    90909]\n",
      " [      90      123     8979]\n",
      " [    1238     8723 90917230]]\n"
     ]
    }
   ],
   "source": [
    "a = np.array([[10,120,90909],[90,123,8979],[1238,8723,90917230]])\n",
    "print(a)"
   ]
  },
  {
   "cell_type": "code",
   "execution_count": 9,
   "id": "ad8c8662",
   "metadata": {},
   "outputs": [
    {
     "name": "stdout",
     "output_type": "stream",
     "text": [
      "Dimension of a >  2\n"
     ]
    }
   ],
   "source": [
    "print(\"Dimension of a > \", a.ndim)"
   ]
  }
 ],
 "metadata": {
  "kernelspec": {
   "display_name": "workplace",
   "language": "python",
   "name": "python3"
  },
  "language_info": {
   "codemirror_mode": {
    "name": "ipython",
    "version": 3
   },
   "file_extension": ".py",
   "mimetype": "text/x-python",
   "name": "python",
   "nbconvert_exporter": "python",
   "pygments_lexer": "ipython3",
   "version": "3.12.9"
  }
 },
 "nbformat": 4,
 "nbformat_minor": 5
}
