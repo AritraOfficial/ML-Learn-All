{
 "cells": [
  {
   "cell_type": "markdown",
   "id": "3fdee016",
   "metadata": {},
   "source": [
    "# 3D - Tensor "
   ]
  },
  {
   "cell_type": "code",
   "execution_count": 1,
   "id": "daeea316",
   "metadata": {},
   "outputs": [],
   "source": [
    "import numpy as np"
   ]
  },
  {
   "cell_type": "code",
   "execution_count": 12,
   "id": "e6ff2c4a",
   "metadata": {},
   "outputs": [
    {
     "name": "stdout",
     "output_type": "stream",
     "text": [
      "[[[ 1  2  3]\n",
      "  [ 4  5  6]]\n",
      "\n",
      " [[10 20 30]\n",
      "  [40 50 60]]]\n"
     ]
    },
    {
     "data": {
      "text/plain": [
       "3"
      ]
     },
     "execution_count": 12,
     "metadata": {},
     "output_type": "execute_result"
    }
   ],
   "source": [
    "a = np.array([[[1,2,3],[4,5,6]],\n",
    "              [[10,20,30],[40,50,60]]])\n",
    "print(a)\n",
    "a.ndim"
   ]
  },
  {
   "cell_type": "markdown",
   "id": "1ce7ebce",
   "metadata": {},
   "source": [
    "# 4D - Tensor "
   ]
  },
  {
   "cell_type": "code",
   "execution_count": 11,
   "id": "750352df",
   "metadata": {},
   "outputs": [
    {
     "name": "stdout",
     "output_type": "stream",
     "text": [
      "[[[[1 2 3]\n",
      "   [4 5 6]]]]\n"
     ]
    },
    {
     "data": {
      "text/plain": [
       "4"
      ]
     },
     "execution_count": 11,
     "metadata": {},
     "output_type": "execute_result"
    }
   ],
   "source": [
    "b = np.array(\n",
    "    [\n",
    "        [\n",
    "            [\n",
    "                [1,2,3], [4,5,6]\n",
    "            ]\n",
    "        ]\n",
    "    ]\n",
    ")\n",
    "print(b)\n",
    "b.ndim"
   ]
  },
  {
   "cell_type": "markdown",
   "id": "b9fd2054",
   "metadata": {},
   "source": [
    "# 5D - Tensor "
   ]
  },
  {
   "cell_type": "code",
   "execution_count": 16,
   "id": "3cbb66f6",
   "metadata": {},
   "outputs": [
    {
     "name": "stdout",
     "output_type": "stream",
     "text": [
      "[[[[[1 2 3]]]]]\n"
     ]
    },
    {
     "data": {
      "text/plain": [
       "5"
      ]
     },
     "execution_count": 16,
     "metadata": {},
     "output_type": "execute_result"
    }
   ],
   "source": [
    "c = np.array([[[[[1,2,3]]]]])\n",
    "print(c)\n",
    "c.ndim"
   ]
  },
  {
   "cell_type": "markdown",
   "id": "84993f40",
   "metadata": {},
   "source": [
    "# 6D - Tensor "
   ]
  },
  {
   "cell_type": "code",
   "execution_count": 8,
   "id": "58ac196d",
   "metadata": {},
   "outputs": [
    {
     "name": "stdout",
     "output_type": "stream",
     "text": [
      "[[[[[[1 2 3 4 5]]]]]] \n",
      " Dim of d >  6\n"
     ]
    }
   ],
   "source": [
    "d = np.array(\n",
    "    [[[[[[1,2,3,4,5]]]]]]\n",
    ")\n",
    "print(d, '\\n' , 'Dim of d > ', d.ndim)"
   ]
  },
  {
   "cell_type": "markdown",
   "id": "61804880",
   "metadata": {},
   "source": [
    "# 7D - Tensor "
   ]
  },
  {
   "cell_type": "code",
   "execution_count": 6,
   "id": "249b9564",
   "metadata": {},
   "outputs": [
    {
     "name": "stdout",
     "output_type": "stream",
     "text": [
      "[[[[[[[1 2 3 4]\n",
      "      [6 7 8 9]]]]]]] \n",
      " Dim of e >  7\n"
     ]
    }
   ],
   "source": [
    "e = np.array(\n",
    "    [[[[[[[1,2,3,4],[6,7,8,9]]]]]]]\n",
    ")\n",
    "print(e, '\\n' , 'Dim of e > ', e.ndim)"
   ]
  },
  {
   "cell_type": "markdown",
   "id": "8e794a40",
   "metadata": {},
   "source": [
    "# 10D - Tensor"
   ]
  },
  {
   "cell_type": "code",
   "execution_count": 10,
   "id": "4764c4cc",
   "metadata": {},
   "outputs": [
    {
     "name": "stdout",
     "output_type": "stream",
     "text": [
      "[[[[[[[[[[1 2 3 4 5]\n",
      "         [0 8 6 7 8]\n",
      "         [5 3 2 1 6]]]]]]]]]] \n",
      " Dim of x >  10\n"
     ]
    }
   ],
   "source": [
    "x = np.array(\n",
    "    [[[[[[[[[[1,2,3,4,5],[0,8,6,7,8],[5,3,2,1,6]]]]]]]]]]\n",
    ")\n",
    "print(x, '\\n' , 'Dim of x > ', x.ndim)"
   ]
  }
 ],
 "metadata": {
  "kernelspec": {
   "display_name": "workplace",
   "language": "python",
   "name": "python3"
  },
  "language_info": {
   "codemirror_mode": {
    "name": "ipython",
    "version": 3
   },
   "file_extension": ".py",
   "mimetype": "text/x-python",
   "name": "python",
   "nbconvert_exporter": "python",
   "pygments_lexer": "ipython3",
   "version": "3.12.9"
  }
 },
 "nbformat": 4,
 "nbformat_minor": 5
}
