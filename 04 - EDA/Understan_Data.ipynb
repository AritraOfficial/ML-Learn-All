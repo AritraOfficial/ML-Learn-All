{
 "cells": [
  {
   "cell_type": "markdown",
   "id": "46e56f10",
   "metadata": {},
   "source": [
    "# Understand the Dataset before starting the Model Building"
   ]
  },
  {
   "cell_type": "markdown",
   "id": "9d06fb7b",
   "metadata": {},
   "source": [
    "### Understand by knowing of some question's answer"
   ]
  },
  {
   "cell_type": "code",
   "execution_count": 43,
   "id": "428f54ae",
   "metadata": {},
   "outputs": [],
   "source": [
    "import pandas as pd"
   ]
  },
  {
   "cell_type": "markdown",
   "id": "0961f035",
   "metadata": {},
   "source": [
    "#### Low the dataset"
   ]
  },
  {
   "cell_type": "code",
   "execution_count": 44,
   "id": "cb294a88",
   "metadata": {},
   "outputs": [],
   "source": [
    "data = pd.read_csv('titanic_dataset.csv')"
   ]
  },
  {
   "cell_type": "markdown",
   "id": "7d3c635f",
   "metadata": {},
   "source": [
    "# 1. How big is the data?"
   ]
  },
  {
   "cell_type": "code",
   "execution_count": 45,
   "id": "d6a2c218",
   "metadata": {},
   "outputs": [
    {
     "data": {
      "text/plain": [
       "(418, 12)"
      ]
     },
     "execution_count": 45,
     "metadata": {},
     "output_type": "execute_result"
    }
   ],
   "source": [
    "data.shape"
   ]
  },
  {
   "cell_type": "markdown",
   "id": "4c427c9a",
   "metadata": {},
   "source": [
    "# 2. How does the data look like?"
   ]
  },
  {
   "cell_type": "markdown",
   "id": "bdf14d56",
   "metadata": {},
   "source": [
    "##### There are 3 process to know about the whole data -- \n",
    "1. .head()  - You can only know about the first 5 data \n",
    "2. .tail(5) - You can only know about the last 5 data\n",
    "3. .sample(5) - You can know about `RANDOM` data from thw whole dataset -- That's the best way."
   ]
  },
  {
   "cell_type": "code",
   "execution_count": 5,
   "id": "0ede6106",
   "metadata": {},
   "outputs": [
    {
     "data": {
      "text/html": [
       "<div>\n",
       "<style scoped>\n",
       "    .dataframe tbody tr th:only-of-type {\n",
       "        vertical-align: middle;\n",
       "    }\n",
       "\n",
       "    .dataframe tbody tr th {\n",
       "        vertical-align: top;\n",
       "    }\n",
       "\n",
       "    .dataframe thead th {\n",
       "        text-align: right;\n",
       "    }\n",
       "</style>\n",
       "<table border=\"1\" class=\"dataframe\">\n",
       "  <thead>\n",
       "    <tr style=\"text-align: right;\">\n",
       "      <th></th>\n",
       "      <th>PassengerId</th>\n",
       "      <th>Survived</th>\n",
       "      <th>Pclass</th>\n",
       "      <th>Name</th>\n",
       "      <th>Sex</th>\n",
       "      <th>Age</th>\n",
       "      <th>SibSp</th>\n",
       "      <th>Parch</th>\n",
       "      <th>Ticket</th>\n",
       "      <th>Fare</th>\n",
       "      <th>Cabin</th>\n",
       "      <th>Embarked</th>\n",
       "    </tr>\n",
       "  </thead>\n",
       "  <tbody>\n",
       "    <tr>\n",
       "      <th>230</th>\n",
       "      <td>1122</td>\n",
       "      <td>0</td>\n",
       "      <td>2</td>\n",
       "      <td>Sweet, Mr. George Frederick</td>\n",
       "      <td>male</td>\n",
       "      <td>14.0</td>\n",
       "      <td>0</td>\n",
       "      <td>0</td>\n",
       "      <td>220845</td>\n",
       "      <td>65.0000</td>\n",
       "      <td>NaN</td>\n",
       "      <td>S</td>\n",
       "    </tr>\n",
       "    <tr>\n",
       "      <th>283</th>\n",
       "      <td>1175</td>\n",
       "      <td>1</td>\n",
       "      <td>3</td>\n",
       "      <td>Touma, Miss. Maria Youssef</td>\n",
       "      <td>female</td>\n",
       "      <td>9.0</td>\n",
       "      <td>1</td>\n",
       "      <td>1</td>\n",
       "      <td>2650</td>\n",
       "      <td>15.2458</td>\n",
       "      <td>NaN</td>\n",
       "      <td>C</td>\n",
       "    </tr>\n",
       "    <tr>\n",
       "      <th>146</th>\n",
       "      <td>1038</td>\n",
       "      <td>0</td>\n",
       "      <td>1</td>\n",
       "      <td>Hilliard, Mr. Herbert Henry</td>\n",
       "      <td>male</td>\n",
       "      <td>NaN</td>\n",
       "      <td>0</td>\n",
       "      <td>0</td>\n",
       "      <td>17463</td>\n",
       "      <td>51.8625</td>\n",
       "      <td>E46</td>\n",
       "      <td>S</td>\n",
       "    </tr>\n",
       "    <tr>\n",
       "      <th>312</th>\n",
       "      <td>1204</td>\n",
       "      <td>0</td>\n",
       "      <td>3</td>\n",
       "      <td>Sadowitz, Mr. Harry</td>\n",
       "      <td>male</td>\n",
       "      <td>NaN</td>\n",
       "      <td>0</td>\n",
       "      <td>0</td>\n",
       "      <td>LP 1588</td>\n",
       "      <td>7.5750</td>\n",
       "      <td>NaN</td>\n",
       "      <td>S</td>\n",
       "    </tr>\n",
       "    <tr>\n",
       "      <th>36</th>\n",
       "      <td>928</td>\n",
       "      <td>1</td>\n",
       "      <td>3</td>\n",
       "      <td>Roth, Miss. Sarah A</td>\n",
       "      <td>female</td>\n",
       "      <td>NaN</td>\n",
       "      <td>0</td>\n",
       "      <td>0</td>\n",
       "      <td>342712</td>\n",
       "      <td>8.0500</td>\n",
       "      <td>NaN</td>\n",
       "      <td>S</td>\n",
       "    </tr>\n",
       "    <tr>\n",
       "      <th>68</th>\n",
       "      <td>960</td>\n",
       "      <td>0</td>\n",
       "      <td>1</td>\n",
       "      <td>Tucker, Mr. Gilbert Milligan Jr</td>\n",
       "      <td>male</td>\n",
       "      <td>31.0</td>\n",
       "      <td>0</td>\n",
       "      <td>0</td>\n",
       "      <td>2543</td>\n",
       "      <td>28.5375</td>\n",
       "      <td>C53</td>\n",
       "      <td>C</td>\n",
       "    </tr>\n",
       "    <tr>\n",
       "      <th>356</th>\n",
       "      <td>1248</td>\n",
       "      <td>1</td>\n",
       "      <td>1</td>\n",
       "      <td>Brown, Mrs. John Murray (Caroline Lane Lamson)</td>\n",
       "      <td>female</td>\n",
       "      <td>59.0</td>\n",
       "      <td>2</td>\n",
       "      <td>0</td>\n",
       "      <td>11769</td>\n",
       "      <td>51.4792</td>\n",
       "      <td>C101</td>\n",
       "      <td>S</td>\n",
       "    </tr>\n",
       "    <tr>\n",
       "      <th>192</th>\n",
       "      <td>1084</td>\n",
       "      <td>0</td>\n",
       "      <td>3</td>\n",
       "      <td>van Billiard, Master. Walter John</td>\n",
       "      <td>male</td>\n",
       "      <td>11.5</td>\n",
       "      <td>1</td>\n",
       "      <td>1</td>\n",
       "      <td>A/5. 851</td>\n",
       "      <td>14.5000</td>\n",
       "      <td>NaN</td>\n",
       "      <td>S</td>\n",
       "    </tr>\n",
       "    <tr>\n",
       "      <th>25</th>\n",
       "      <td>917</td>\n",
       "      <td>0</td>\n",
       "      <td>3</td>\n",
       "      <td>Robins, Mr. Alexander A</td>\n",
       "      <td>male</td>\n",
       "      <td>50.0</td>\n",
       "      <td>1</td>\n",
       "      <td>0</td>\n",
       "      <td>A/5. 3337</td>\n",
       "      <td>14.5000</td>\n",
       "      <td>NaN</td>\n",
       "      <td>S</td>\n",
       "    </tr>\n",
       "    <tr>\n",
       "      <th>104</th>\n",
       "      <td>996</td>\n",
       "      <td>1</td>\n",
       "      <td>3</td>\n",
       "      <td>Thomas, Mrs. Alexander (Thamine Thelma\")\"</td>\n",
       "      <td>female</td>\n",
       "      <td>16.0</td>\n",
       "      <td>1</td>\n",
       "      <td>1</td>\n",
       "      <td>2625</td>\n",
       "      <td>8.5167</td>\n",
       "      <td>NaN</td>\n",
       "      <td>C</td>\n",
       "    </tr>\n",
       "  </tbody>\n",
       "</table>\n",
       "</div>"
      ],
      "text/plain": [
       "     PassengerId  Survived  Pclass  \\\n",
       "230         1122         0       2   \n",
       "283         1175         1       3   \n",
       "146         1038         0       1   \n",
       "312         1204         0       3   \n",
       "36           928         1       3   \n",
       "68           960         0       1   \n",
       "356         1248         1       1   \n",
       "192         1084         0       3   \n",
       "25           917         0       3   \n",
       "104          996         1       3   \n",
       "\n",
       "                                               Name     Sex   Age  SibSp  \\\n",
       "230                     Sweet, Mr. George Frederick    male  14.0      0   \n",
       "283                      Touma, Miss. Maria Youssef  female   9.0      1   \n",
       "146                     Hilliard, Mr. Herbert Henry    male   NaN      0   \n",
       "312                             Sadowitz, Mr. Harry    male   NaN      0   \n",
       "36                              Roth, Miss. Sarah A  female   NaN      0   \n",
       "68                  Tucker, Mr. Gilbert Milligan Jr    male  31.0      0   \n",
       "356  Brown, Mrs. John Murray (Caroline Lane Lamson)  female  59.0      2   \n",
       "192               van Billiard, Master. Walter John    male  11.5      1   \n",
       "25                          Robins, Mr. Alexander A    male  50.0      1   \n",
       "104       Thomas, Mrs. Alexander (Thamine Thelma\")\"  female  16.0      1   \n",
       "\n",
       "     Parch     Ticket     Fare Cabin Embarked  \n",
       "230      0     220845  65.0000   NaN        S  \n",
       "283      1       2650  15.2458   NaN        C  \n",
       "146      0      17463  51.8625   E46        S  \n",
       "312      0    LP 1588   7.5750   NaN        S  \n",
       "36       0     342712   8.0500   NaN        S  \n",
       "68       0       2543  28.5375   C53        C  \n",
       "356      0      11769  51.4792  C101        S  \n",
       "192      1   A/5. 851  14.5000   NaN        S  \n",
       "25       0  A/5. 3337  14.5000   NaN        S  \n",
       "104      1       2625   8.5167   NaN        C  "
      ]
     },
     "execution_count": 5,
     "metadata": {},
     "output_type": "execute_result"
    }
   ],
   "source": [
    "data.sample(10)"
   ]
  },
  {
   "cell_type": "markdown",
   "id": "063c5944",
   "metadata": {},
   "source": [
    "# 3. What is the data type of cols?"
   ]
  },
  {
   "cell_type": "code",
   "execution_count": 6,
   "id": "630847bd",
   "metadata": {},
   "outputs": [
    {
     "name": "stdout",
     "output_type": "stream",
     "text": [
      "<class 'pandas.core.frame.DataFrame'>\n",
      "RangeIndex: 418 entries, 0 to 417\n",
      "Data columns (total 12 columns):\n",
      " #   Column       Non-Null Count  Dtype  \n",
      "---  ------       --------------  -----  \n",
      " 0   PassengerId  418 non-null    int64  \n",
      " 1   Survived     418 non-null    int64  \n",
      " 2   Pclass       418 non-null    int64  \n",
      " 3   Name         418 non-null    object \n",
      " 4   Sex          418 non-null    object \n",
      " 5   Age          332 non-null    float64\n",
      " 6   SibSp        418 non-null    int64  \n",
      " 7   Parch        418 non-null    int64  \n",
      " 8   Ticket       418 non-null    object \n",
      " 9   Fare         417 non-null    float64\n",
      " 10  Cabin        91 non-null     object \n",
      " 11  Embarked     418 non-null    object \n",
      "dtypes: float64(2), int64(5), object(5)\n",
      "memory usage: 39.3+ KB\n"
     ]
    }
   ],
   "source": [
    "data.info()"
   ]
  },
  {
   "cell_type": "markdown",
   "id": "1f3eb206",
   "metadata": {},
   "source": [
    "# 4. Are there any missing values?"
   ]
  },
  {
   "cell_type": "code",
   "execution_count": 10,
   "id": "77415e99",
   "metadata": {},
   "outputs": [
    {
     "data": {
      "text/plain": [
       "PassengerId      0\n",
       "Survived         0\n",
       "Pclass           0\n",
       "Name             0\n",
       "Sex              0\n",
       "Age             86\n",
       "SibSp            0\n",
       "Parch            0\n",
       "Ticket           0\n",
       "Fare             1\n",
       "Cabin          327\n",
       "Embarked         0\n",
       "dtype: int64"
      ]
     },
     "execution_count": 10,
     "metadata": {},
     "output_type": "execute_result"
    }
   ],
   "source": [
    "data.isnull().sum()"
   ]
  },
  {
   "cell_type": "markdown",
   "id": "bd5dcc97",
   "metadata": {},
   "source": [
    "# 5. How does the data look mathematically?"
   ]
  },
  {
   "cell_type": "code",
   "execution_count": 13,
   "id": "a352dd30",
   "metadata": {},
   "outputs": [
    {
     "data": {
      "text/html": [
       "<div>\n",
       "<style scoped>\n",
       "    .dataframe tbody tr th:only-of-type {\n",
       "        vertical-align: middle;\n",
       "    }\n",
       "\n",
       "    .dataframe tbody tr th {\n",
       "        vertical-align: top;\n",
       "    }\n",
       "\n",
       "    .dataframe thead th {\n",
       "        text-align: right;\n",
       "    }\n",
       "</style>\n",
       "<table border=\"1\" class=\"dataframe\">\n",
       "  <thead>\n",
       "    <tr style=\"text-align: right;\">\n",
       "      <th></th>\n",
       "      <th>PassengerId</th>\n",
       "      <th>Survived</th>\n",
       "      <th>Pclass</th>\n",
       "      <th>Age</th>\n",
       "      <th>SibSp</th>\n",
       "      <th>Parch</th>\n",
       "      <th>Fare</th>\n",
       "    </tr>\n",
       "  </thead>\n",
       "  <tbody>\n",
       "    <tr>\n",
       "      <th>count</th>\n",
       "      <td>418.000000</td>\n",
       "      <td>418.000000</td>\n",
       "      <td>418.000000</td>\n",
       "      <td>332.000000</td>\n",
       "      <td>418.000000</td>\n",
       "      <td>418.000000</td>\n",
       "      <td>417.000000</td>\n",
       "    </tr>\n",
       "    <tr>\n",
       "      <th>mean</th>\n",
       "      <td>1100.500000</td>\n",
       "      <td>0.363636</td>\n",
       "      <td>2.265550</td>\n",
       "      <td>30.272590</td>\n",
       "      <td>0.447368</td>\n",
       "      <td>0.392344</td>\n",
       "      <td>35.627188</td>\n",
       "    </tr>\n",
       "    <tr>\n",
       "      <th>std</th>\n",
       "      <td>120.810458</td>\n",
       "      <td>0.481622</td>\n",
       "      <td>0.841838</td>\n",
       "      <td>14.181209</td>\n",
       "      <td>0.896760</td>\n",
       "      <td>0.981429</td>\n",
       "      <td>55.907576</td>\n",
       "    </tr>\n",
       "    <tr>\n",
       "      <th>min</th>\n",
       "      <td>892.000000</td>\n",
       "      <td>0.000000</td>\n",
       "      <td>1.000000</td>\n",
       "      <td>0.170000</td>\n",
       "      <td>0.000000</td>\n",
       "      <td>0.000000</td>\n",
       "      <td>0.000000</td>\n",
       "    </tr>\n",
       "    <tr>\n",
       "      <th>25%</th>\n",
       "      <td>996.250000</td>\n",
       "      <td>0.000000</td>\n",
       "      <td>1.000000</td>\n",
       "      <td>21.000000</td>\n",
       "      <td>0.000000</td>\n",
       "      <td>0.000000</td>\n",
       "      <td>7.895800</td>\n",
       "    </tr>\n",
       "    <tr>\n",
       "      <th>50%</th>\n",
       "      <td>1100.500000</td>\n",
       "      <td>0.000000</td>\n",
       "      <td>3.000000</td>\n",
       "      <td>27.000000</td>\n",
       "      <td>0.000000</td>\n",
       "      <td>0.000000</td>\n",
       "      <td>14.454200</td>\n",
       "    </tr>\n",
       "    <tr>\n",
       "      <th>75%</th>\n",
       "      <td>1204.750000</td>\n",
       "      <td>1.000000</td>\n",
       "      <td>3.000000</td>\n",
       "      <td>39.000000</td>\n",
       "      <td>1.000000</td>\n",
       "      <td>0.000000</td>\n",
       "      <td>31.500000</td>\n",
       "    </tr>\n",
       "    <tr>\n",
       "      <th>max</th>\n",
       "      <td>1309.000000</td>\n",
       "      <td>1.000000</td>\n",
       "      <td>3.000000</td>\n",
       "      <td>76.000000</td>\n",
       "      <td>8.000000</td>\n",
       "      <td>9.000000</td>\n",
       "      <td>512.329200</td>\n",
       "    </tr>\n",
       "  </tbody>\n",
       "</table>\n",
       "</div>"
      ],
      "text/plain": [
       "       PassengerId    Survived      Pclass         Age       SibSp  \\\n",
       "count   418.000000  418.000000  418.000000  332.000000  418.000000   \n",
       "mean   1100.500000    0.363636    2.265550   30.272590    0.447368   \n",
       "std     120.810458    0.481622    0.841838   14.181209    0.896760   \n",
       "min     892.000000    0.000000    1.000000    0.170000    0.000000   \n",
       "25%     996.250000    0.000000    1.000000   21.000000    0.000000   \n",
       "50%    1100.500000    0.000000    3.000000   27.000000    0.000000   \n",
       "75%    1204.750000    1.000000    3.000000   39.000000    1.000000   \n",
       "max    1309.000000    1.000000    3.000000   76.000000    8.000000   \n",
       "\n",
       "            Parch        Fare  \n",
       "count  418.000000  417.000000  \n",
       "mean     0.392344   35.627188  \n",
       "std      0.981429   55.907576  \n",
       "min      0.000000    0.000000  \n",
       "25%      0.000000    7.895800  \n",
       "50%      0.000000   14.454200  \n",
       "75%      0.000000   31.500000  \n",
       "max      9.000000  512.329200  "
      ]
     },
     "execution_count": 13,
     "metadata": {},
     "output_type": "execute_result"
    }
   ],
   "source": [
    "data.describe()"
   ]
  },
  {
   "cell_type": "markdown",
   "id": "1b521b38",
   "metadata": {},
   "source": [
    "# 6. Are there duplicate values?"
   ]
  },
  {
   "cell_type": "code",
   "execution_count": 18,
   "id": "f0a20684",
   "metadata": {},
   "outputs": [
    {
     "data": {
      "text/plain": [
       "np.int64(0)"
      ]
     },
     "execution_count": 18,
     "metadata": {},
     "output_type": "execute_result"
    }
   ],
   "source": [
    "data.duplicated().sum()"
   ]
  },
  {
   "cell_type": "markdown",
   "id": "2c622b2d",
   "metadata": {},
   "source": [
    "# 7. How is the correlation between cols?"
   ]
  },
  {
   "cell_type": "code",
   "execution_count": 50,
   "id": "a069d678",
   "metadata": {},
   "outputs": [
    {
     "data": {
      "text/plain": [
       "<bound method DataFrame.corr of      PassengerId  Survived  Pclass   Age  SibSp  Parch              Ticket  \\\n",
       "0            892         0       3  34.5      0      0              330911   \n",
       "1            893         1       3  47.0      1      0              363272   \n",
       "2            894         0       2  62.0      0      0              240276   \n",
       "3            895         0       3  27.0      0      0              315154   \n",
       "4            896         1       3  22.0      1      1             3101298   \n",
       "..           ...       ...     ...   ...    ...    ...                 ...   \n",
       "413         1305         0       3   NaN      0      0           A.5. 3236   \n",
       "414         1306         1       1  39.0      0      0            PC 17758   \n",
       "415         1307         0       3  38.5      0      0  SOTON/O.Q. 3101262   \n",
       "416         1308         0       3   NaN      0      0              359309   \n",
       "417         1309         0       3   NaN      1      1                2668   \n",
       "\n",
       "         Fare Cabin Embarked  \n",
       "0      7.8292   NaN        Q  \n",
       "1      7.0000   NaN        S  \n",
       "2      9.6875   NaN        Q  \n",
       "3      8.6625   NaN        S  \n",
       "4     12.2875   NaN        S  \n",
       "..        ...   ...      ...  \n",
       "413    8.0500   NaN        S  \n",
       "414  108.9000  C105        C  \n",
       "415    7.2500   NaN        S  \n",
       "416    8.0500   NaN        S  \n",
       "417   22.3583   NaN        C  \n",
       "\n",
       "[418 rows x 10 columns]>"
      ]
     },
     "execution_count": 50,
     "metadata": {},
     "output_type": "execute_result"
    }
   ],
   "source": [
    "df.corr"
   ]
  }
 ],
 "metadata": {
  "kernelspec": {
   "display_name": "workplace",
   "language": "python",
   "name": "python3"
  },
  "language_info": {
   "codemirror_mode": {
    "name": "ipython",
    "version": 3
   },
   "file_extension": ".py",
   "mimetype": "text/x-python",
   "name": "python",
   "nbconvert_exporter": "python",
   "pygments_lexer": "ipython3",
   "version": "3.12.9"
  }
 },
 "nbformat": 4,
 "nbformat_minor": 5
}
